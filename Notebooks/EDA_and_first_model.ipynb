{
 "cells": [
  {
   "cell_type": "markdown",
   "metadata": {},
   "source": [
    "# Importing Libraries, preprocessing images"
   ]
  },
  {
   "cell_type": "code",
   "execution_count": 1,
   "metadata": {},
   "outputs": [
    {
     "name": "stdout",
     "output_type": "stream",
     "text": [
      "Requirement already satisfied: window in /Users/mendeloster/opt/anaconda3/lib/python3.7/site-packages (0.0.3)\r\n"
     ]
    }
   ],
   "source": [
    "!pip install window"
   ]
  },
  {
   "cell_type": "code",
   "execution_count": 6,
   "metadata": {},
   "outputs": [],
   "source": [
    "import pandas as pd\n",
    "import numpy as np\n",
    "import matplotlib.pyplot as plt\n",
    "%matplotlib inline\n",
    "import seaborn as sns\n",
    "\n",
    "from PIL import Image\n",
    "\n",
    "from keras.preprocessing.image import ImageDataGenerator, array_to_img, img_to_array, load_img\n",
    "import numpy as np\n",
    "import os\n",
    "\n",
    "import shutil\n",
    "from keras import models\n",
    "from keras import layers\n",
    "from sklearn.metrics import confusion_matrix, f1_score, accuracy_score, recall_score, precision_score\n",
    "np.random.seed(123)\n",
    "from keras.models import load_model\n",
    "\n",
    "# import Functions\n",
    "\n",
    "from keras.applications import inception_v3\n",
    "from keras.layers import Dense, GlobalAveragePooling2D\n",
    "from keras.models import Model"
   ]
  },
  {
   "cell_type": "markdown",
   "metadata": {},
   "source": [
    "Checking the sizes of the images in the dataset"
   ]
  },
  {
   "cell_type": "code",
   "execution_count": 8,
   "metadata": {},
   "outputs": [],
   "source": [
    "def getImageSizes(folder_path):\n",
    "    '''\n",
    "    Takes in a specified folder path and returns a list of sizes for each file in the folder\n",
    "    '''\n",
    "    file_size = []\n",
    "\n",
    "    for dirpath, dirnames, filenames in os.walk(folder_path):\n",
    "        for file in filenames:\n",
    "            if file == '.DS_Store':\n",
    "                continue\n",
    "                \n",
    "            f = os.path.join(dirpath, file)\n",
    "            \n",
    "            im = Image.open(f)\n",
    "            width, height = im.size\n",
    "            \n",
    "            file_size.append((width, height))\n",
    "    return file_size\n",
    " "
   ]
  },
  {
   "cell_type": "code",
   "execution_count": 9,
   "metadata": {},
   "outputs": [
    {
     "data": {
      "text/plain": [
       "(2090, 1858)"
      ]
     },
     "execution_count": 9,
     "metadata": {},
     "output_type": "execute_result"
    }
   ],
   "source": [
    "f_img = Image.open('../Data/chest_xray/chest_xray/train/NORMAL/IM-0115-0001.jpeg')\n",
    "f_width, f_height = f_img.size\n",
    "(f_width, f_height)"
   ]
  },
  {
   "cell_type": "code",
   "execution_count": 10,
   "metadata": {},
   "outputs": [],
   "source": [
    "train_norm_sizes = getImageSizes('../Data/chest_xray/chest_xray/train/NORMAL')\n",
    "train_pneum_sizes = getImageSizes('../Data/chest_xray/chest_xray/train/PNEUMONIA')\n",
    "\n",
    "val_norm_sizes = getImageSizes('../Data/chest_xray/chest_xray/val/NORMAL')\n",
    "val_pneum_sizes = getImageSizes('../Data/chest_xray/chest_xray/val/PNEUMONIA')\n",
    "\n",
    "test_norm_sizes = getImageSizes('../Data/chest_xray/chest_xray/test/NORMAL')\n",
    "test_pneum_sizes = getImageSizes('../Data/chest_xray/chest_xray/test/PNEUMONIA')\n"
   ]
  },
  {
   "cell_type": "code",
   "execution_count": 11,
   "metadata": {},
   "outputs": [
    {
     "data": {
      "text/plain": [
       "[(2359, 2234), (1422, 1067), (1828, 1357), (1854, 1495), (2194, 1966)]"
      ]
     },
     "execution_count": 11,
     "metadata": {},
     "output_type": "execute_result"
    }
   ],
   "source": [
    "train_norm_sizes[:5]"
   ]
  },
  {
   "cell_type": "markdown",
   "metadata": {},
   "source": [
    "Navigating to the correct folder and extracting images, converting them to numpy arrays"
   ]
  },
  {
   "cell_type": "code",
   "execution_count": 12,
   "metadata": {},
   "outputs": [],
   "source": [
    "def convertImages(tr_dir,val_dir,test_dir, size=(256,256)):\n",
    "    '''\n",
    "    returns scaled numpy arrays of images and their labels\n",
    "    like so (train_images, train_labels), (val_images, val_labels), (test_images, test_labels)\n",
    "    '''\n",
    "    \n",
    "    val_generator = ImageDataGenerator(rescale=1./255).flow_from_directory(\n",
    "            val_dir, batch_size=16, target_size=size)\n",
    "\n",
    "    train_generator = ImageDataGenerator(rescale=1./255).flow_from_directory(\n",
    "            tr_dir,batch_size=5216, target_size=size)\n",
    "\n",
    "    test_generator = ImageDataGenerator(rescale=1./255).flow_from_directory(\n",
    "            test_dir, batch_size=624, target_size=size)\n",
    "\n",
    "    train_images, train_labels = next(train_generator)\n",
    "    val_images, val_labels = next(val_generator)\n",
    "    test_images, test_labels = next(test_generator)\n",
    "    \n",
    "    \n",
    "    return train_images, train_labels, val_images, val_labels, test_images, test_labels"
   ]
  },
  {
   "cell_type": "code",
   "execution_count": 13,
   "metadata": {},
   "outputs": [],
   "source": [
    "train_data_dir = '../Data/chest_xray/chest_xray/train'\n",
    "val_data_dir = '../Data/chest_xray/chest_xray/val'\n",
    "test_data_dir = '../Data/chest_xray/chest_xray/test'"
   ]
  },
  {
   "cell_type": "code",
   "execution_count": 10,
   "metadata": {},
   "outputs": [],
   "source": [
    "# size 1000*1000 - this keeps breaking the kernal\n",
    "# train_images_1000, train_labels_1000, val_images_1000, val_labels_1000, test_images_1000, test_labels_1000 = convertImages(train_data_dir,val_data_dir,test_data_dir,size=(1000,1000))\n"
   ]
  },
  {
   "cell_type": "code",
   "execution_count": 25,
   "metadata": {},
   "outputs": [],
   "source": [
    "# size 500*500\n",
    "# train_images_500, train_labels_500, val_images_500, val_labels_500, test_images_500, test_labels_500 = convertImages(train_data_dir,val_data_dir,test_data_dir,size=(500,500))"
   ]
  },
  {
   "cell_type": "code",
   "execution_count": 1,
   "metadata": {},
   "outputs": [],
   "source": [
    "# size 256*256\n",
    "# train_images, train_labels, val_images, val_labels, test_images, test_labels = convertImages(train_data_dir,val_data_dir,test_data_dir,size=(256,256))"
   ]
  },
  {
   "cell_type": "markdown",
   "metadata": {},
   "source": [
    "Using the standard 256 * 256"
   ]
  },
  {
   "cell_type": "code",
   "execution_count": 14,
   "metadata": {
    "scrolled": true
   },
   "outputs": [
    {
     "name": "stdout",
     "output_type": "stream",
     "text": [
      "Found 16 images belonging to 2 classes.\n",
      "Found 5216 images belonging to 2 classes.\n",
      "Found 624 images belonging to 2 classes.\n"
     ]
    }
   ],
   "source": [
    "val_generator = ImageDataGenerator(rescale=1./255).flow_from_directory(\n",
    "        val_data_dir, batch_size=16)\n",
    "\n",
    "train_generator = ImageDataGenerator(rescale=1./255).flow_from_directory(\n",
    "        train_data_dir,batch_size=5216)\n",
    "\n",
    "test_generator = ImageDataGenerator(rescale=1./255).flow_from_directory(\n",
    "        test_data_dir, batch_size=624)\n",
    "\n",
    "# Creating the datasets\n",
    "train_images, train_labels = next(train_generator)\n",
    "test_images, test_labels = next(test_generator)\n",
    "val_images, val_labels = next(val_generator)"
   ]
  },
  {
   "cell_type": "markdown",
   "metadata": {},
   "source": [
    "Checking the mapping of the classes to ensure they are all pointing to same folder"
   ]
  },
  {
   "cell_type": "code",
   "execution_count": 17,
   "metadata": {},
   "outputs": [
    {
     "name": "stdout",
     "output_type": "stream",
     "text": [
      "{'NORMAL': 0, 'PNEUMONIA': 1}\n",
      "{'NORMAL': 0, 'PNEUMONIA': 1}\n",
      "{'NORMAL': 0, 'PNEUMONIA': 1}\n"
     ]
    }
   ],
   "source": [
    "print(train_generator.class_indices)\n",
    "print(val_generator.class_indices)\n",
    "print(test_generator.class_indices)"
   ]
  },
  {
   "cell_type": "code",
   "execution_count": 18,
   "metadata": {
    "scrolled": true
   },
   "outputs": [
    {
     "name": "stdout",
     "output_type": "stream",
     "text": [
      "train size (5216, 256, 256, 3)\n",
      "val size  (16, 256, 256, 3)\n",
      "test size  (624, 256, 256, 3)\n"
     ]
    }
   ],
   "source": [
    "print('train size',train_images.shape)\n",
    "print('val size ',val_images.shape)\n",
    "print('test size ',test_images.shape)"
   ]
  },
  {
   "cell_type": "markdown",
   "metadata": {},
   "source": [
    "A quick investigation shows that the three RGB layers are all the same so we can cut it down."
   ]
  },
  {
   "cell_type": "code",
   "execution_count": 19,
   "metadata": {},
   "outputs": [
    {
     "name": "stdout",
     "output_type": "stream",
     "text": [
      "[0.05490196 0.05490196 0.05490196]\n",
      "[0.7137255 0.7137255 0.7137255]\n"
     ]
    }
   ],
   "source": [
    "print(train_images[3][0][0])\n",
    "print(train_images[40][0][0])"
   ]
  },
  {
   "cell_type": "code",
   "execution_count": 20,
   "metadata": {
    "scrolled": true
   },
   "outputs": [
    {
     "data": {
      "text/plain": [
       "(5216, 256, 256)"
      ]
     },
     "execution_count": 20,
     "metadata": {},
     "output_type": "execute_result"
    }
   ],
   "source": [
    "train_images[:,:,:,0].shape"
   ]
  },
  {
   "cell_type": "code",
   "execution_count": 21,
   "metadata": {},
   "outputs": [],
   "source": [
    "train_images = train_images[:,:,:,0]\n",
    "val_images = val_images[:,:,:,0]\n",
    "test_images = test_images[:,:,:,0]"
   ]
  },
  {
   "cell_type": "markdown",
   "metadata": {},
   "source": [
    "Find which labels represent which images"
   ]
  },
  {
   "cell_type": "code",
   "execution_count": 22,
   "metadata": {
    "scrolled": true
   },
   "outputs": [
    {
     "name": "stdout",
     "output_type": "stream",
     "text": [
      "There are  3875.0 instances of pneumonia in the training set and  1341.0 instances of healthy lungs\n",
      "There are  8.0 instances of pneumonia in the validation set and 8.0 instances of healthy lungs\n",
      "There are  390.0 instances of pneumonia in the testing set and 234.0 instances of healthy lungs\n"
     ]
    }
   ],
   "source": [
    "print('There are ',sum(train_labels[:,1]),'instances of pneumonia in the training set and ',\n",
    "      (len(train_labels) - sum(train_labels[:,1])),'instances of healthy lungs')\n",
    "print('There are ',sum(val_labels[:,1]),'instances of pneumonia in the validation set and',\n",
    "     (len(val_labels) - sum(val_labels[:,1])),'instances of healthy lungs')\n",
    "print('There are ',sum(test_labels[:,1]),'instances of pneumonia in the testing set and',\n",
    "     (len(test_labels) - sum(test_labels[:,1])),'instances of healthy lungs')"
   ]
  },
  {
   "cell_type": "code",
   "execution_count": 23,
   "metadata": {},
   "outputs": [],
   "source": [
    "# selecting the correct class for the sets\n",
    "train_labels_final = train_labels[:,1]\n",
    "val_labels_final = val_labels[:,1]\n",
    "test_labels_final = test_labels[:,1]"
   ]
  },
  {
   "cell_type": "markdown",
   "metadata": {},
   "source": [
    "## Quick Visualization of the two classes"
   ]
  },
  {
   "cell_type": "code",
   "execution_count": 467,
   "metadata": {},
   "outputs": [
    {
     "data": {
      "text/plain": [
       "1.0"
      ]
     },
     "execution_count": 467,
     "metadata": {},
     "output_type": "execute_result"
    }
   ],
   "source": [
    "train_labels_final[5083]"
   ]
  },
  {
   "cell_type": "code",
   "execution_count": 464,
   "metadata": {
    "scrolled": true
   },
   "outputs": [],
   "source": [
    "sick_img = array_to_img(train_images[:,:,:,np.newaxis][5083])"
   ]
  },
  {
   "cell_type": "code",
   "execution_count": 480,
   "metadata": {},
   "outputs": [],
   "source": [
    "sick_img.save('Sick_lungs.png')"
   ]
  },
  {
   "cell_type": "code",
   "execution_count": 466,
   "metadata": {
    "scrolled": true
   },
   "outputs": [
    {
     "data": {
      "image/png": "[encoded data removed]",
      "text/plain": [
       "<PIL.Image.Image image mode=L size=256x256 at 0x1D67606110>"
      ]
     },
     "execution_count": 466,
     "metadata": {},
     "output_type": "execute_result"
    }
   ],
   "source": [
    "sick_img"
   ]
  },
  {
   "cell_type": "code",
   "execution_count": 468,
   "metadata": {},
   "outputs": [
    {
     "data": {
      "text/plain": [
       "0.0"
      ]
     },
     "execution_count": 468,
     "metadata": {},
     "output_type": "execute_result"
    }
   ],
   "source": [
    "train_labels_final[800]"
   ]
  },
  {
   "cell_type": "code",
   "execution_count": 469,
   "metadata": {},
   "outputs": [],
   "source": [
    "healthy_img = array_to_img(train_images[:,:,:,np.newaxis][800])"
   ]
  },
  {
   "cell_type": "code",
   "execution_count": 481,
   "metadata": {},
   "outputs": [],
   "source": [
    "healthy_img.save('Healthy_lungs.png')"
   ]
  },
  {
   "cell_type": "code",
   "execution_count": 471,
   "metadata": {},
   "outputs": [
    {
     "data": {
      "image/png": "[encoded data removed]",
      "text/plain": [
       "<PIL.Image.Image image mode=L size=256x256 at 0x1D67607990>"
      ]
     },
     "execution_count": 471,
     "metadata": {},
     "output_type": "execute_result"
    }
   ],
   "source": [
    "healthy_img"
   ]
  },
  {
   "cell_type": "code",
   "execution_count": 24,
   "metadata": {},
   "outputs": [],
   "source": [
    "all_labels = np.concatenate([train_labels_final,test_labels_final,val_labels_final])"
   ]
  },
  {
   "cell_type": "code",
   "execution_count": 25,
   "metadata": {},
   "outputs": [
    {
     "data": {
      "image/png": "[encoded data removed]",
      "text/plain": [
       "<Figure size 576x432 with 1 Axes>"
      ]
     },
     "metadata": {},
     "output_type": "display_data"
    }
   ],
   "source": [
    "plt.figure(figsize=(8,6));\n",
    "plt.text(-.5,.4,'72%')\n",
    "plt.text(.5,-.4,'28%')\n",
    "plt.pie([sum(all_labels == 1),sum(all_labels == 0)],labels=['Pneumonia','Healthy']);\n",
    "plt.title('Distribution of Classes');\n",
    "plt.show()\n",
    "# plt.savefig('pie_chart_class_dist')"
   ]
  },
  {
   "cell_type": "markdown",
   "metadata": {},
   "source": [
    "# Modeling"
   ]
  },
  {
   "cell_type": "markdown",
   "metadata": {},
   "source": [
    "- __Subset__ First let's make a subset of the training images so we don't have to run the CNN on the entire set\n",
    "<br>\n",
    "- __Scoring__ In this case we don't want to mistaken any infected patients as healthy, therefore the main scoring metric we'll use will be 'Recall' (out of all real life positives (that is positive to having the infection) how many did we get).<br>\n"
   ]
  },
  {
   "cell_type": "markdown",
   "metadata": {},
   "source": [
    "### Subset"
   ]
  },
  {
   "cell_type": "code",
   "execution_count": 179,
   "metadata": {},
   "outputs": [],
   "source": [
    "df_training = pd.Series(train_labels_final)\n",
    "df_training_pneum_indices = df_training[df_training ==1].index\n",
    "df_training_norm_indices = df_training[df_training ==0].index"
   ]
  },
  {
   "cell_type": "code",
   "execution_count": 188,
   "metadata": {},
   "outputs": [],
   "source": [
    "# select random 250 indices from patients with pneumonia and 250 random indices of healthy patients\n",
    "subset_indices_norm = np.random.choice(df_training_norm_indices,size=250,replace=False)\n",
    "subset_indices_pneum = np.random.choice(df_training_pneum_indices,size=250,replace=False)\n",
    "subset_indices = np.concatenate([subset_indices_norm, subset_indices_pneum])"
   ]
  },
  {
   "cell_type": "code",
   "execution_count": 205,
   "metadata": {},
   "outputs": [],
   "source": [
    "sub_x_train = []\n",
    "\n",
    "for count,x in enumerate(train_images):\n",
    "    if count in subset_indices:\n",
    "        sub_x_train.append(x)"
   ]
  },
  {
   "cell_type": "code",
   "execution_count": 209,
   "metadata": {},
   "outputs": [],
   "source": [
    "sub_y_train = []\n",
    "\n",
    "for count,x in enumerate(train_labels_final):\n",
    "    if count in subset_indices:\n",
    "        sub_y_train.append(x)"
   ]
  },
  {
   "cell_type": "code",
   "execution_count": 211,
   "metadata": {
    "scrolled": true
   },
   "outputs": [],
   "source": [
    "sub_x_train = np.array(sub_x_train)\n",
    "sub_y_train = np.array(sub_y_train)"
   ]
  },
  {
   "cell_type": "code",
   "execution_count": 213,
   "metadata": {},
   "outputs": [
    {
     "name": "stdout",
     "output_type": "stream",
     "text": [
      "(500, 256, 256)\n"
     ]
    },
    {
     "data": {
      "text/plain": [
       "(500,)"
      ]
     },
     "execution_count": 213,
     "metadata": {},
     "output_type": "execute_result"
    }
   ],
   "source": [
    "print(sub_x_train.shape)\n",
    "sub_y_train.shape"
   ]
  },
  {
   "cell_type": "code",
   "execution_count": 214,
   "metadata": {},
   "outputs": [],
   "source": [
    "sub_x_train = sub_x_train[:,:,:,np.newaxis]"
   ]
  },
  {
   "cell_type": "code",
   "execution_count": 218,
   "metadata": {
    "scrolled": true
   },
   "outputs": [
    {
     "data": {
      "text/plain": [
       "(500, 256, 256, 1)"
      ]
     },
     "execution_count": 218,
     "metadata": {},
     "output_type": "execute_result"
    }
   ],
   "source": [
    "sub_x_train.shape"
   ]
  },
  {
   "cell_type": "code",
   "execution_count": 215,
   "metadata": {},
   "outputs": [],
   "source": [
    "val_images = val_images[:,:,:,np.newaxis]"
   ]
  },
  {
   "cell_type": "code",
   "execution_count": 223,
   "metadata": {},
   "outputs": [
    {
     "data": {
      "text/plain": [
       "(16, 256, 256, 1)"
      ]
     },
     "execution_count": 223,
     "metadata": {},
     "output_type": "execute_result"
    }
   ],
   "source": [
    "val_images.shape"
   ]
  },
  {
   "cell_type": "markdown",
   "metadata": {},
   "source": [
    "> Great, now we have a subset of our training data with 250 infected and 250 healthy x - ray images.<br> Time to model..."
   ]
  },
  {
   "cell_type": "markdown",
   "metadata": {},
   "source": [
    "____"
   ]
  },
  {
   "cell_type": "markdown",
   "metadata": {},
   "source": [
    "### CNN1"
   ]
  },
  {
   "cell_type": "markdown",
   "metadata": {},
   "source": [
    "For the first model we'll be using a total of 6 layers and MAX pooling. "
   ]
  },
  {
   "cell_type": "code",
   "execution_count": 237,
   "metadata": {},
   "outputs": [],
   "source": [
    "cnn1 = models.Sequential()\n",
    "cnn1.add(layers.Conv2D(64, (3, 3), activation='relu', input_shape=(256, 256,1)))\n",
    "cnn1.add(layers.MaxPooling2D((2, 2)))\n",
    "cnn1.add(layers.Conv2D(32, (3, 3), activation='relu'))\n",
    "cnn1.add(layers.MaxPooling2D((2, 2)))\n",
    "cnn1.add(layers.Flatten())\n",
    "cnn1.add(layers.Dense(32, activation='relu'))\n",
    "cnn1.add(layers.Dense(1, activation='sigmoid'))\n",
    "\n",
    "cnn1.compile(loss='binary_crossentropy',\n",
    "              optimizer=\"sgd\",\n",
    "              metrics=['acc'])"
   ]
  },
  {
   "cell_type": "code",
   "execution_count": 238,
   "metadata": {
    "scrolled": true
   },
   "outputs": [
    {
     "name": "stdout",
     "output_type": "stream",
     "text": [
      "Train on 500 samples, validate on 16 samples\n",
      "Epoch 1/4\n",
      "500/500 [==============================] - 21s 42ms/step - loss: 0.6882 - acc: 0.5100 - val_loss: 0.6938 - val_acc: 0.5000\n",
      "Epoch 2/4\n",
      "500/500 [==============================] - 19s 38ms/step - loss: 0.6670 - acc: 0.6460 - val_loss: 0.6701 - val_acc: 0.5625\n",
      "Epoch 3/4\n",
      "500/500 [==============================] - 19s 37ms/step - loss: 0.6403 - acc: 0.6980 - val_loss: 0.6546 - val_acc: 0.6875\n",
      "Epoch 4/4\n",
      "500/500 [==============================] - 19s 38ms/step - loss: 0.6342 - acc: 0.6380 - val_loss: 0.6332 - val_acc: 0.6875\n"
     ]
    },
    {
     "data": {
      "text/plain": [
       "<keras.callbacks.callbacks.History at 0x1d49949050>"
      ]
     },
     "execution_count": 238,
     "metadata": {},
     "output_type": "execute_result"
    }
   ],
   "source": [
    "cnn1.fit(sub_x_train,\n",
    "        sub_y_train,\n",
    "        epochs=4,\n",
    "        batch_size=50,\n",
    "        validation_data=(val_images, val_labels_final))"
   ]
  },
  {
   "cell_type": "code",
   "execution_count": 474,
   "metadata": {},
   "outputs": [
    {
     "name": "stdout",
     "output_type": "stream",
     "text": [
      "Model: \"sequential_10\"\n",
      "_________________________________________________________________\n",
      "Layer (type)                 Output Shape              Param #   \n",
      "=================================================================\n",
      "conv2d_17 (Conv2D)           (None, 254, 254, 64)      640       \n",
      "_________________________________________________________________\n",
      "max_pooling2d_15 (MaxPooling (None, 127, 127, 64)      0         \n",
      "_________________________________________________________________\n",
      "conv2d_18 (Conv2D)           (None, 125, 125, 32)      18464     \n",
      "_________________________________________________________________\n",
      "max_pooling2d_16 (MaxPooling (None, 62, 62, 32)        0         \n",
      "_________________________________________________________________\n",
      "flatten_8 (Flatten)          (None, 123008)            0         \n",
      "_________________________________________________________________\n",
      "dense_15 (Dense)             (None, 32)                3936288   \n",
      "_________________________________________________________________\n",
      "dense_16 (Dense)             (None, 1)                 33        \n",
      "=================================================================\n",
      "Total params: 3,955,425\n",
      "Trainable params: 3,955,425\n",
      "Non-trainable params: 0\n",
      "_________________________________________________________________\n"
     ]
    }
   ],
   "source": [
    "cnn1.summary()"
   ]
  },
  {
   "cell_type": "markdown",
   "metadata": {},
   "source": [
    "### CNN1 Scores"
   ]
  },
  {
   "cell_type": "code",
   "execution_count": 257,
   "metadata": {},
   "outputs": [
    {
     "name": "stdout",
     "output_type": "stream",
     "text": [
      "The testing set has 62.50% percent infected patients\n"
     ]
    }
   ],
   "source": [
    "print('The testing set has {:.2%}'.format(test_labels_final.sum()/len(test_labels_final)),'percent infected patients')"
   ]
  },
  {
   "cell_type": "code",
   "execution_count": 26,
   "metadata": {},
   "outputs": [
    {
     "data": {
      "image/png": "[encoded data removed]",
      "text/plain": [
       "<Figure size 576x432 with 1 Axes>"
      ]
     },
     "metadata": {},
     "output_type": "display_data"
    }
   ],
   "source": [
    "plt.figure(figsize=(8,6));\n",
    "plt.text(-.5,.4,'62.5%')\n",
    "plt.text(.5,-.4,'37.5%')\n",
    "plt.pie([sum(test_labels_final == 1),sum(test_labels_final == 0)],labels=['Pneumonia','Healthy']);\n",
    "plt.title('Distribution of Classes for testing set');\n",
    "plt.show()"
   ]
  },
  {
   "cell_type": "code",
   "execution_count": 242,
   "metadata": {},
   "outputs": [],
   "source": [
    "cnn1_preds = cnn1.predict_classes(test_images[:,:,:,np.newaxis])"
   ]
  },
  {
   "cell_type": "code",
   "execution_count": 256,
   "metadata": {
    "scrolled": true
   },
   "outputs": [
    {
     "name": "stdout",
     "output_type": "stream",
     "text": [
      "Cnn1 model has a recall of 57.95%\n"
     ]
    }
   ],
   "source": [
    "print('Cnn1 model has a recall of {:.2%}'.format(recall_score(test_labels_final, cnn1_preds)))"
   ]
  },
  {
   "cell_type": "code",
   "execution_count": 315,
   "metadata": {},
   "outputs": [
    {
     "data": {
      "text/plain": [
       "array([[222,  12],\n",
       "       [164, 226]])"
      ]
     },
     "execution_count": 315,
     "metadata": {},
     "output_type": "execute_result"
    }
   ],
   "source": [
    "confusion_matrix(test_labels_final,cnn1_preds)"
   ]
  },
  {
   "cell_type": "markdown",
   "metadata": {},
   "source": [
    "Ok, clearly this model isn't good, if we just assigned everyone in the testing set as infected we would have a recall of 62.5%. Time to step it up.."
   ]
  },
  {
   "cell_type": "markdown",
   "metadata": {},
   "source": [
    "### CNN2"
   ]
  },
  {
   "cell_type": "markdown",
   "metadata": {},
   "source": [
    "Architect by Alexnet"
   ]
  },
  {
   "cell_type": "code",
   "execution_count": 317,
   "metadata": {},
   "outputs": [],
   "source": [
    "from keras.layers import Conv2D, MaxPooling2D\n",
    "from keras.layers import Activation, Dropout, Flatten, Dense, InputLayer\n",
    "\n",
    "cnn2 = models.Sequential()\n",
    "cnn2.add(InputLayer( input_shape=(256, 256,1)))\n",
    "#C1\n",
    "cnn2.add(Conv2D(64, (4, 4),strides=(3,3),padding='valid'))\n",
    "cnn2.add(Activation('relu'))\n",
    "#P1\n",
    "cnn2.add(MaxPooling2D(pool_size=(2, 2),strides=(2,2),padding='valid'))\n",
    "\n",
    "#C2\n",
    "cnn2.add(Conv2D(128, (4, 4),strides=(1,1),padding='valid'))\n",
    "cnn2.add(Activation('relu'))\n",
    "#P2\n",
    "cnn2.add(MaxPooling2D(pool_size=(2, 2),strides=(2,2),padding='valid'))\n",
    "\n",
    "#C3\n",
    "cnn2.add(Conv2D(256, (3, 3),strides=(1,1),padding='valid'))\n",
    "cnn2.add(Activation('relu'))\n",
    "#C4\n",
    "cnn2.add(Conv2D(256, (3, 3),strides=(1,1),padding='valid'))\n",
    "cnn2.add(Activation('relu'))\n",
    "#C5\n",
    "cnn2.add(Conv2D(128, (3, 3),strides=(1,1),padding='valid'))\n",
    "cnn2.add(Activation('relu'))\n",
    "\n",
    "#P3\n",
    "cnn2.add(MaxPooling2D(pool_size=(2, 2),strides=(2,2),padding='valid'))\n",
    "# the model so far outputs 3D feature maps (height, width, features)\n",
    "\n",
    "\n",
    "# this converts our 3D feature maps to 1D feature vectors\n",
    "cnn2.add(Flatten())  \n",
    "\n",
    "#1st fully connectd layer\n",
    "cnn2.add(Dense(128))\n",
    "cnn2.add(Activation('relu'))\n",
    "#Dropout leyer\n",
    "cnn2.add(Dropout(0.5))\n",
    "\n",
    "#2nd fully connectd layer\n",
    "cnn2.add(Dense(32))\n",
    "cnn2.add(Activation('relu'))\n",
    "#Dropout leyer\n",
    "cnn2.add(Dropout(0.5))\n",
    "\n",
    "\n",
    "cnn2.add(Dense(1))\n",
    "cnn2.add(Activation('sigmoid'))\n",
    "\n",
    "cnn2.compile(loss='binary_crossentropy',\n",
    "              optimizer='adam',\n",
    "              metrics=['accuracy'])"
   ]
  },
  {
   "cell_type": "markdown",
   "metadata": {},
   "source": [
    "Fitting to the subset"
   ]
  },
  {
   "cell_type": "code",
   "execution_count": 309,
   "metadata": {
    "scrolled": true
   },
   "outputs": [
    {
     "name": "stdout",
     "output_type": "stream",
     "text": [
      "Train on 500 samples, validate on 16 samples\n",
      "Epoch 1/5\n",
      "500/500 [==============================] - 9s 19ms/step - loss: 0.6985 - accuracy: 0.4960 - val_loss: 0.6930 - val_accuracy: 0.5000\n",
      "Epoch 2/5\n",
      "500/500 [==============================] - 9s 18ms/step - loss: 0.6942 - accuracy: 0.4780 - val_loss: 0.6932 - val_accuracy: 0.5000\n",
      "Epoch 3/5\n",
      "500/500 [==============================] - 9s 18ms/step - loss: 0.6932 - accuracy: 0.5000 - val_loss: 0.6932 - val_accuracy: 0.5000\n",
      "Epoch 4/5\n",
      "500/500 [==============================] - 10s 19ms/step - loss: 0.6942 - accuracy: 0.4600 - val_loss: 0.6931 - val_accuracy: 0.5000\n",
      "Epoch 5/5\n",
      "500/500 [==============================] - 9s 19ms/step - loss: 0.6937 - accuracy: 0.4820 - val_loss: 0.6931 - val_accuracy: 0.5000\n"
     ]
    },
    {
     "data": {
      "text/plain": [
       "<keras.callbacks.callbacks.History at 0x1d4af99190>"
      ]
     },
     "execution_count": 309,
     "metadata": {},
     "output_type": "execute_result"
    }
   ],
   "source": [
    "cnn2.fit(sub_x_train,sub_y_train,\n",
    "            validation_data=(val_images, val_labels_final),\n",
    "            epochs= 5,\n",
    "            batch_size = 50)"
   ]
  },
  {
   "cell_type": "markdown",
   "metadata": {},
   "source": [
    "### CNN2 Scoring (fitted to subset)"
   ]
  },
  {
   "cell_type": "code",
   "execution_count": 311,
   "metadata": {},
   "outputs": [],
   "source": [
    "cnn2_preds = cnn2.predict_classes(test_images[:,:,:,np.newaxis])"
   ]
  },
  {
   "cell_type": "code",
   "execution_count": 312,
   "metadata": {},
   "outputs": [
    {
     "data": {
      "text/plain": [
       "0.0"
      ]
     },
     "execution_count": 312,
     "metadata": {},
     "output_type": "execute_result"
    }
   ],
   "source": [
    "recall_score(test_labels_final,cnn2_preds)"
   ]
  },
  {
   "cell_type": "code",
   "execution_count": 313,
   "metadata": {},
   "outputs": [
    {
     "data": {
      "text/plain": [
       "0.375"
      ]
     },
     "execution_count": 313,
     "metadata": {},
     "output_type": "execute_result"
    }
   ],
   "source": [
    "accuracy_score(test_labels_final,cnn2_preds)"
   ]
  },
  {
   "cell_type": "code",
   "execution_count": 314,
   "metadata": {
    "scrolled": true
   },
   "outputs": [
    {
     "data": {
      "text/plain": [
       "array([[234,   0],\n",
       "       [390,   0]])"
      ]
     },
     "execution_count": 314,
     "metadata": {},
     "output_type": "execute_result"
    }
   ],
   "source": [
    "confusion_matrix(test_labels_final,cnn2_preds)"
   ]
  },
  {
   "cell_type": "markdown",
   "metadata": {},
   "source": [
    "This model failed epically, it classified every test image as a healthy patient!<br>\n",
    "What happens if we fit it to the entire trainning set, will it improve?"
   ]
  },
  {
   "cell_type": "markdown",
   "metadata": {},
   "source": [
    "### CNN2 Refit"
   ]
  },
  {
   "cell_type": "code",
   "execution_count": 319,
   "metadata": {},
   "outputs": [
    {
     "data": {
      "text/plain": [
       "(5216, 256, 256)"
      ]
     },
     "execution_count": 319,
     "metadata": {},
     "output_type": "execute_result"
    }
   ],
   "source": [
    "train_images.shape"
   ]
  },
  {
   "cell_type": "code",
   "execution_count": 320,
   "metadata": {},
   "outputs": [
    {
     "name": "stdout",
     "output_type": "stream",
     "text": [
      "Train on 5216 samples, validate on 16 samples\n",
      "Epoch 1/6\n",
      "5216/5216 [==============================] - 135s 26ms/step - loss: 0.6018 - accuracy: 0.7393 - val_loss: 0.6969 - val_accuracy: 0.5000\n",
      "Epoch 2/6\n",
      "5216/5216 [==============================] - 121s 23ms/step - loss: 0.4326 - accuracy: 0.7889 - val_loss: 0.5391 - val_accuracy: 0.8125\n",
      "Epoch 3/6\n",
      "5216/5216 [==============================] - 113s 22ms/step - loss: 0.2647 - accuracy: 0.8932 - val_loss: 0.4656 - val_accuracy: 0.7500\n",
      "Epoch 4/6\n",
      "5216/5216 [==============================] - 124s 24ms/step - loss: 0.1929 - accuracy: 0.9283 - val_loss: 0.8606 - val_accuracy: 0.7500\n",
      "Epoch 5/6\n",
      "5216/5216 [==============================] - 130s 25ms/step - loss: 0.1586 - accuracy: 0.9436 - val_loss: 0.6826 - val_accuracy: 0.6875\n",
      "Epoch 6/6\n",
      "5216/5216 [==============================] - 119s 23ms/step - loss: 0.1444 - accuracy: 0.9473 - val_loss: 1.1557 - val_accuracy: 0.6875\n"
     ]
    },
    {
     "data": {
      "text/plain": [
       "<keras.callbacks.callbacks.History at 0x1d5fc1d650>"
      ]
     },
     "execution_count": 320,
     "metadata": {},
     "output_type": "execute_result"
    }
   ],
   "source": [
    "cnn2.fit(train_images[:,:,:,np.newaxis],train_labels_final,\n",
    "            validation_data=(val_images, val_labels_final),\n",
    "            epochs= 6,\n",
    "            batch_size = 50)"
   ]
  },
  {
   "cell_type": "markdown",
   "metadata": {},
   "source": [
    "### CNN2 Scoring (fitted to entire training set)"
   ]
  },
  {
   "cell_type": "code",
   "execution_count": 322,
   "metadata": {},
   "outputs": [],
   "source": [
    "cnn2_preds = cnn2.predict_classes(test_images[:,:,:,np.newaxis])"
   ]
  },
  {
   "cell_type": "code",
   "execution_count": 323,
   "metadata": {},
   "outputs": [
    {
     "data": {
      "text/plain": [
       "0.9948717948717949"
      ]
     },
     "execution_count": 323,
     "metadata": {},
     "output_type": "execute_result"
    }
   ],
   "source": [
    "recall_score(test_labels_final, cnn2_preds)"
   ]
  },
  {
   "cell_type": "code",
   "execution_count": 324,
   "metadata": {},
   "outputs": [
    {
     "data": {
      "text/plain": [
       "array([[ 99, 135],\n",
       "       [  2, 388]])"
      ]
     },
     "execution_count": 324,
     "metadata": {},
     "output_type": "execute_result"
    }
   ],
   "source": [
    "confusion_matrix(test_labels_final, cnn2_preds)"
   ]
  },
  {
   "cell_type": "code",
   "execution_count": 325,
   "metadata": {},
   "outputs": [
    {
     "data": {
      "text/plain": [
       "0.7418738049713193"
      ]
     },
     "execution_count": 325,
     "metadata": {},
     "output_type": "execute_result"
    }
   ],
   "source": [
    "precision_score(test_labels_final, cnn2_preds)"
   ]
  },
  {
   "cell_type": "markdown",
   "metadata": {},
   "source": [
    "We can see a major upgrade, when we train the cnn2 over the entire training set we get a recall of 99%!"
   ]
  },
  {
   "cell_type": "code",
   "execution_count": 56,
   "metadata": {},
   "outputs": [
    {
     "data": {
      "image/png": "[encoded data removed]",
      "text/plain": [
       "<Figure size 432x288 with 2 Axes>"
      ]
     },
     "metadata": {
      "needs_background": "light"
     },
     "output_type": "display_data"
    }
   ],
   "source": [
    "labels = ['Healthy', 'Sick']\n",
    "fig = plt.figure()\n",
    "ax = fig.add_subplot(111)\n",
    "cax = ax.matshow(cm)\n",
    "plt.title('Confusion matrix of the classifier')\n",
    "fig.colorbar(cax)\n",
    "ax.set_xticklabels([''] + labels)\n",
    "ax.set_yticklabels([''] + labels)\n",
    "plt.xlabel('Predicted')\n",
    "plt.ylabel('True')\n",
    "plt.text(.02,.2,99)\n",
    "plt.text(1,.2,135)\n",
    "plt.text(.01,.9,2)\n",
    "plt.text(.8,1,288)\n",
    "plt.show()"
   ]
  },
  {
   "cell_type": "code",
   "execution_count": null,
   "metadata": {},
   "outputs": [],
   "source": [
    "cnn2.summary()"
   ]
  },
  {
   "cell_type": "markdown",
   "metadata": {},
   "source": [
    " ### CNN2 with 25 Epochs"
   ]
  },
  {
   "cell_type": "markdown",
   "metadata": {},
   "source": [
    "Careful before running this"
   ]
  },
  {
   "cell_type": "code",
   "execution_count": 409,
   "metadata": {},
   "outputs": [
    {
     "name": "stdout",
     "output_type": "stream",
     "text": [
      "Train on 5216 samples, validate on 16 samples\n",
      "Epoch 1/25\n",
      "5216/5216 [==============================] - 157s 30ms/step - loss: 0.1168 - accuracy: 0.9586 - val_loss: 0.5451 - val_accuracy: 0.7500\n",
      "Epoch 2/25\n",
      "5216/5216 [==============================] - 154s 29ms/step - loss: 0.0986 - accuracy: 0.9653 - val_loss: 0.5973 - val_accuracy: 0.7500\n",
      "Epoch 3/25\n",
      "5216/5216 [==============================] - 268s 51ms/step - loss: 0.1042 - accuracy: 0.9630 - val_loss: 0.7150 - val_accuracy: 0.8125\n",
      "Epoch 4/25\n",
      "5216/5216 [==============================] - 115s 22ms/step - loss: 0.0791 - accuracy: 0.9722 - val_loss: 1.1022 - val_accuracy: 0.6875\n",
      "Epoch 5/25\n",
      "5216/5216 [==============================] - 109s 21ms/step - loss: 0.0713 - accuracy: 0.9758 - val_loss: 0.1356 - val_accuracy: 0.9375\n",
      "Epoch 6/25\n",
      "5216/5216 [==============================] - 113s 22ms/step - loss: 0.0632 - accuracy: 0.9772 - val_loss: 0.3176 - val_accuracy: 0.8125\n",
      "Epoch 7/25\n",
      "5216/5216 [==============================] - 121s 23ms/step - loss: 0.0591 - accuracy: 0.9789 - val_loss: 0.3099 - val_accuracy: 0.8125\n",
      "Epoch 8/25\n",
      "5216/5216 [==============================] - 112s 21ms/step - loss: 0.0641 - accuracy: 0.9757 - val_loss: 0.1564 - val_accuracy: 0.9375\n",
      "Epoch 9/25\n",
      "5216/5216 [==============================] - 111s 21ms/step - loss: 0.0553 - accuracy: 0.9791 - val_loss: 0.2235 - val_accuracy: 0.8750\n",
      "Epoch 10/25\n",
      "5216/5216 [==============================] - 108s 21ms/step - loss: 0.0478 - accuracy: 0.9833 - val_loss: 0.0967 - val_accuracy: 1.0000\n",
      "Epoch 11/25\n",
      "5216/5216 [==============================] - 114s 22ms/step - loss: 0.0548 - accuracy: 0.9808 - val_loss: 0.3404 - val_accuracy: 0.8750\n",
      "Epoch 12/25\n",
      "5216/5216 [==============================] - 117s 22ms/step - loss: 0.0322 - accuracy: 0.9875 - val_loss: 0.6878 - val_accuracy: 0.7500\n",
      "Epoch 13/25\n",
      "5216/5216 [==============================] - 113s 22ms/step - loss: 0.0437 - accuracy: 0.9833 - val_loss: 0.1902 - val_accuracy: 0.8750\n",
      "Epoch 14/25\n",
      "5216/5216 [==============================] - 110s 21ms/step - loss: 0.0313 - accuracy: 0.9895 - val_loss: 0.8481 - val_accuracy: 0.8125\n",
      "Epoch 15/25\n",
      "5216/5216 [==============================] - 111s 21ms/step - loss: 0.0219 - accuracy: 0.9939 - val_loss: 0.8225 - val_accuracy: 0.7500\n",
      "Epoch 16/25\n",
      "5216/5216 [==============================] - 110s 21ms/step - loss: 0.0274 - accuracy: 0.9906 - val_loss: 0.5404 - val_accuracy: 0.8125\n",
      "Epoch 17/25\n",
      "5216/5216 [==============================] - 111s 21ms/step - loss: 0.0363 - accuracy: 0.9862 - val_loss: 0.4047 - val_accuracy: 0.8125\n",
      "Epoch 18/25\n",
      "5216/5216 [==============================] - 126s 24ms/step - loss: 0.0343 - accuracy: 0.9900 - val_loss: 0.3122 - val_accuracy: 0.8125\n",
      "Epoch 19/25\n",
      "5216/5216 [==============================] - 121s 23ms/step - loss: 0.0223 - accuracy: 0.9910 - val_loss: 1.2869 - val_accuracy: 0.7500\n",
      "Epoch 20/25\n",
      "5216/5216 [==============================] - 112s 21ms/step - loss: 0.0171 - accuracy: 0.9942 - val_loss: 0.6935 - val_accuracy: 0.8750\n",
      "Epoch 21/25\n",
      "5216/5216 [==============================] - 118s 23ms/step - loss: 0.0418 - accuracy: 0.9875 - val_loss: 0.1564 - val_accuracy: 0.8750\n",
      "Epoch 22/25\n",
      "5216/5216 [==============================] - 111s 21ms/step - loss: 0.0288 - accuracy: 0.9908 - val_loss: 0.4534 - val_accuracy: 0.8750\n",
      "Epoch 23/25\n",
      "5216/5216 [==============================] - 112s 21ms/step - loss: 0.0185 - accuracy: 0.9944 - val_loss: 0.4869 - val_accuracy: 0.8750\n",
      "Epoch 24/25\n",
      "5216/5216 [==============================] - 119s 23ms/step - loss: 0.0188 - accuracy: 0.9931 - val_loss: 1.3893 - val_accuracy: 0.8125\n",
      "Epoch 25/25\n",
      "5216/5216 [==============================] - 111s 21ms/step - loss: 0.0168 - accuracy: 0.9952 - val_loss: 1.3878 - val_accuracy: 0.8750\n"
     ]
    }
   ],
   "source": [
    "cnn2_25 = cnn2.fit(train_images[:,:,:,np.newaxis],train_labels_final,\n",
    "            validation_data=(val_images, val_labels_final),\n",
    "            epochs= 25,\n",
    "            batch_size = 50)"
   ]
  },
  {
   "cell_type": "markdown",
   "metadata": {},
   "source": [
    "### CNN2 25 epochs scoring"
   ]
  },
  {
   "cell_type": "code",
   "execution_count": 410,
   "metadata": {},
   "outputs": [],
   "source": [
    "cnn2_25_preds = cnn2_25.model.predict_classes(test_images[:,:,:,np.newaxis])"
   ]
  },
  {
   "cell_type": "code",
   "execution_count": 411,
   "metadata": {},
   "outputs": [
    {
     "data": {
      "text/plain": [
       "0.9974358974358974"
      ]
     },
     "execution_count": 411,
     "metadata": {},
     "output_type": "execute_result"
    }
   ],
   "source": [
    "recall_score(test_labels_final, cnn2_25_preds)"
   ]
  },
  {
   "cell_type": "code",
   "execution_count": 412,
   "metadata": {},
   "outputs": [
    {
     "data": {
      "text/plain": [
       "0.7217068645640075"
      ]
     },
     "execution_count": 412,
     "metadata": {},
     "output_type": "execute_result"
    }
   ],
   "source": [
    "precision_score(test_labels_final, cnn2_25_preds)"
   ]
  },
  {
   "cell_type": "code",
   "execution_count": 413,
   "metadata": {
    "scrolled": true
   },
   "outputs": [
    {
     "data": {
      "text/plain": [
       "array([[ 84, 150],\n",
       "       [  1, 389]])"
      ]
     },
     "execution_count": 413,
     "metadata": {},
     "output_type": "execute_result"
    }
   ],
   "source": [
    "confusion_matrix(test_labels_final,cnn2_25_preds)"
   ]
  },
  {
   "cell_type": "markdown",
   "metadata": {},
   "source": [
    "Looks like we have a case of overfit, recall did slightly better but precision dropped by 2 points"
   ]
  },
  {
   "cell_type": "markdown",
   "metadata": {},
   "source": [
    "## Model Function "
   ]
  },
  {
   "cell_type": "code",
   "execution_count": 517,
   "metadata": {},
   "outputs": [
    {
     "data": {
      "image/png": "[encoded data removed]",
      "text/plain": [
       "<PIL.PngImagePlugin.PngImageFile image mode=L size=256x256 at 0x1D65474850>"
      ]
     },
     "execution_count": 517,
     "metadata": {},
     "output_type": "execute_result"
    }
   ],
   "source": [
    "Image.open('../Reports/Sick_lungs.png')"
   ]
  },
  {
   "cell_type": "code",
   "execution_count": 506,
   "metadata": {},
   "outputs": [],
   "source": [
    "def predict_X_ray(full_image_path):\n",
    "    '''\n",
    "    This function takes in the path to a chest x-ray image and returns a \n",
    "    classification of 0 or 1, healthy or pneumonia respectively\n",
    "    '''\n",
    "    import cv2\n",
    "    image = cv2.imread(full_image_path)\n",
    "    \n",
    "    pred = cnn2.predict(image[np.newaxis,:,:,0,np.newaxis],batch_size=1)\n",
    "    \n",
    "    if pred == 1:\n",
    "        return 'Pneumonia'\n",
    "    if pred ==0:\n",
    "        return 'Healthy'"
   ]
  },
  {
   "cell_type": "code",
   "execution_count": 518,
   "metadata": {},
   "outputs": [
    {
     "data": {
      "text/plain": [
       "'Pneumonia'"
      ]
     },
     "execution_count": 518,
     "metadata": {},
     "output_type": "execute_result"
    }
   ],
   "source": [
    "predict_X_ray('../Reports/Sick_lungs.png')"
   ]
  },
  {
   "cell_type": "markdown",
   "metadata": {},
   "source": [
    "\n",
    "\n",
    "\n",
    "\n",
    "\n",
    "\n",
    "\n",
    "\n",
    "\n",
    "\n",
    "\n",
    "\n",
    "\n",
    "\n",
    "\n",
    "\n",
    "\n",
    "\n"
   ]
  },
  {
   "cell_type": "markdown",
   "metadata": {},
   "source": [
    "\n",
    "\n",
    "\n",
    "\n",
    " "
   ]
  },
  {
   "cell_type": "markdown",
   "metadata": {},
   "source": [
    "  "
   ]
  },
  {
   "cell_type": "markdown",
   "metadata": {},
   "source": [
    "  \n",
    "  \n",
    "  \n",
    "  \n",
    "  \n",
    "  "
   ]
  },
  {
   "cell_type": "markdown",
   "metadata": {},
   "source": [
    "   "
   ]
  }
 ],
 "metadata": {
  "kernelspec": {
   "display_name": "Python 3",
   "language": "python",
   "name": "python3"
  },
  "language_info": {
   "codemirror_mode": {
    "name": "ipython",
    "version": 3
   },
   "file_extension": ".py",
   "mimetype": "text/x-python",
   "name": "python",
   "nbconvert_exporter": "python",
   "pygments_lexer": "ipython3",
   "version": "3.7.4"
  }
 },
 "nbformat": 4,
 "nbformat_minor": 2
}
